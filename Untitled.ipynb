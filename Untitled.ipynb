{
 "cells": [
  {
   "cell_type": "code",
   "execution_count": 1,
   "metadata": {},
   "outputs": [
    {
     "name": "stdout",
     "output_type": "stream",
     "text": [
      "\u001b[0m\u001b[01;32mREADME.md\u001b[0m\n",
      "\u001b[01;32mUntitled.ipynb\u001b[0m\n",
      "\u001b[01;32mdata.csv\u001b[0m\n",
      "\u001b[01;32mout.1\u001b[0m\n",
      "\u001b[01;32mout.2\u001b[0m\n",
      "\u001b[01;32mout.3\u001b[0m\n",
      "\u001b[01;32mout.4\u001b[0m\n",
      "\u001b[01;32mout.5\u001b[0m\n",
      "\u001b[01;32mout.6\u001b[0m\n",
      "\u001b[01;32mout.7\u001b[0m\n",
      "\u001b[01;32mscript.sh\u001b[0m\n",
      "\u001b[01;32mtypescript\u001b[0m\n"
     ]
    }
   ],
   "source": [
    "ls -1"
   ]
  },
  {
   "cell_type": "markdown",
   "metadata": {},
   "source": [
    "este es un ejemplo\n",
    "\n",
    "$$x^2$$\n",
    "\n",
    "* item 1\n",
    "* item 2\n",
    "* Item 3\n"
   ]
  },
  {
   "cell_type": "markdown",
   "metadata": {},
   "source": []
  },
  {
   "cell_type": "code",
   "execution_count": 2,
   "metadata": {},
   "outputs": [
    {
     "name": "stdout",
     "output_type": "stream",
     "text": [
      "2013-03-12;A;1;100,0\n",
      "2013-12-05;A;1;100,0\n",
      "2013-02-25;B;2;200,0\n",
      "2013-04-04;N;1;\\N\n",
      "2013-06-21;\\N;;\n",
      "2014-06-13;A;;N\n",
      "2014-05-12;C;\\N;\n",
      "2014-09-05;\\N;3;150,1\n",
      "2014-05-12;a;2;\\N\n",
      "2013-02-28;c;\\N;\\N\n",
      "2013-08-02;A;2;100;0\n"
     ]
    }
   ],
   "source": [
    "cat out.1\n"
   ]
  },
  {
   "cell_type": "code",
   "execution_count": null,
   "metadata": {},
   "outputs": [],
   "source": []
  }
 ],
 "metadata": {
  "kernelspec": {
   "display_name": "Bash",
   "language": "bash",
   "name": "bash"
  },
  "language_info": {
   "codemirror_mode": "shell",
   "file_extension": ".sh",
   "mimetype": "text/x-sh",
   "name": "bash"
  }
 },
 "nbformat": 4,
 "nbformat_minor": 2
}
